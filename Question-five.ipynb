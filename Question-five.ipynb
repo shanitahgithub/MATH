{
 "cells": [
  {
   "cell_type": "code",
   "execution_count": 1,
   "metadata": {},
   "outputs": [],
   "source": [
    "import numpy as np"
   ]
  },
  {
   "cell_type": "code",
   "execution_count": null,
   "metadata": {},
   "outputs": [],
   "source": [
    "#The three linear equations\n",
    "# 8x+3y−2z=9\n",
    "# −4x+7y+5z=15\n",
    "# 3x+4y−12z=35"
   ]
  },
  {
   "cell_type": "code",
   "execution_count": 3,
   "metadata": {},
   "outputs": [
    {
     "name": "stdout",
     "output_type": "stream",
     "text": [
      "[-0.58226371  3.22870478 -1.98599767]\n",
      "x= -0.5822637106184365\n",
      "y= 3.2287047841306884\n",
      "z= -1.985997666277713\n"
     ]
    }
   ],
   "source": [
    "#Solving three linear equations using matrices\n",
    "\n",
    "cofficients=np.array([[8,3,-2],[-4,7,5],[3,4,-12]])\n",
    "constants=np.array([9,15,35])\n",
    "result=np.linalg.solve(cofficients,constants)\n",
    "x,y,z=result\n",
    "print(result)\n",
    "print(\"x=\", x)\n",
    "print(\"y=\",y)\n",
    "print(\"z=\",z)\n",
    "\n"
   ]
  }
 ],
 "metadata": {
  "kernelspec": {
   "display_name": "Python 3",
   "language": "python",
   "name": "python3"
  },
  "language_info": {
   "codemirror_mode": {
    "name": "ipython",
    "version": 3
   },
   "file_extension": ".py",
   "mimetype": "text/x-python",
   "name": "python",
   "nbconvert_exporter": "python",
   "pygments_lexer": "ipython3",
   "version": "3.12.0"
  }
 },
 "nbformat": 4,
 "nbformat_minor": 2
}
